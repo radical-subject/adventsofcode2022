{
 "cells": [
  {
   "cell_type": "code",
   "execution_count": 7,
   "id": "56c6919e",
   "metadata": {},
   "outputs": [
    {
     "data": {
      "text/plain": [
       "205370"
      ]
     },
     "execution_count": 7,
     "metadata": {},
     "output_type": "execute_result"
    }
   ],
   "source": [
    "from modules.PuzzlesAPI import PuzzleInput\n",
    "\n",
    "url = 'https://adventofcode.com/2022/day/1/input'\n",
    "\n",
    "input_conn = PuzzleInput(url)\n",
    "soup = input_conn.get_puzzle_input()\n",
    "summated_calories_list = [sum(list(map(int, element.split(\"\\n\")))) for element in soup]\n",
    "summated_calories_list.sort(reverse = True)\n",
    "sum(summated_calories_list[:3])"
   ]
  },
  {
   "cell_type": "code",
   "execution_count": null,
   "id": "9b87088e",
   "metadata": {},
   "outputs": [],
   "source": []
  }
 ],
 "metadata": {
  "kernelspec": {
   "display_name": "Python 3 (ipykernel)",
   "language": "python",
   "name": "python3"
  },
  "language_info": {
   "codemirror_mode": {
    "name": "ipython",
    "version": 3
   },
   "file_extension": ".py",
   "mimetype": "text/x-python",
   "name": "python",
   "nbconvert_exporter": "python",
   "pygments_lexer": "ipython3",
   "version": "3.8.5"
  }
 },
 "nbformat": 4,
 "nbformat_minor": 5
}
