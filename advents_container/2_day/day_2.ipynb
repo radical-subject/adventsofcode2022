{
 "cells": [
  {
   "cell_type": "code",
   "execution_count": 1,
   "id": "89d655b3",
   "metadata": {},
   "outputs": [],
   "source": [
    "from modules.PuzzlesAPI import PuzzleInput\n",
    "\n",
    "url = 'https://adventofcode.com/2022/day/2/input'\n",
    "\n",
    "input_conn = PuzzleInput(url)\n",
    "soup = input_conn.get_puzzle_input()\n"
   ]
  },
  {
   "cell_type": "code",
   "execution_count": 2,
   "id": "f6af4ae2",
   "metadata": {},
   "outputs": [
    {
     "data": {
      "text/plain": [
       "{'accept': 'text/html,application/xhtml+xml,application/xml;q=0.9,image/avif,image/webp,image/apng,*/*;q=0.8,application/signed-exchange;v=b3;q=0.9',\n",
       " 'accept-encoding': 'gzip, deflate, br',\n",
       " 'accept-language': 'en-US,en;q=0.9',\n",
       " 'cookie': '_ga=GA1.2.2047656773.1669916311; _gid=GA1.2.885953327.1669916311; session=53616c7465645f5f0ffe9734a0a5f3e77cb5399e6a9cd2ce2c5f57fd9dfbcde57c4649a2cebfa05252214fb9f1f8d0b29380c577ca795d618e8836623745676b; _gat=1',\n",
       " 'referer': 'https://adventofcode.com/',\n",
       " 'user-agent': 'Mozilla/5.0 (X11; Linux x86_64) AppleWebKit/537.36 (KHTML, like Gecko) Chrome/106.0.0.0 Safari/537.36'}"
      ]
     },
     "execution_count": 2,
     "metadata": {},
     "output_type": "execute_result"
    }
   ],
   "source": [
    "input_conn.cookies"
   ]
  },
  {
   "cell_type": "code",
   "execution_count": 3,
   "id": "20c2ff82",
   "metadata": {},
   "outputs": [],
   "source": [
    "import pandas"
   ]
  },
  {
   "cell_type": "code",
   "execution_count": 4,
   "id": "03bafb88",
   "metadata": {},
   "outputs": [],
   "source": [
    "df = pandas.DataFrame([row.replace(\"A\", \"1\").replace(\"B\", \"2\").replace(\"C\", \"3\").replace(\"X\", \"1\").replace(\"Y\", \"2\").replace(\"Z\", \"3\").split() for row in soup])"
   ]
  },
  {
   "cell_type": "code",
   "execution_count": 5,
   "id": "8dd092fb",
   "metadata": {},
   "outputs": [],
   "source": [
    "df = df.astype(int)"
   ]
  },
  {
   "cell_type": "code",
   "execution_count": 6,
   "id": "82d0a4a8",
   "metadata": {},
   "outputs": [],
   "source": [
    "df[2] = df[0]-df[1]"
   ]
  },
  {
   "cell_type": "code",
   "execution_count": 7,
   "id": "db088db3",
   "metadata": {},
   "outputs": [
    {
     "data": {
      "text/html": [
       "<div>\n",
       "<style scoped>\n",
       "    .dataframe tbody tr th:only-of-type {\n",
       "        vertical-align: middle;\n",
       "    }\n",
       "\n",
       "    .dataframe tbody tr th {\n",
       "        vertical-align: top;\n",
       "    }\n",
       "\n",
       "    .dataframe thead th {\n",
       "        text-align: right;\n",
       "    }\n",
       "</style>\n",
       "<table border=\"1\" class=\"dataframe\">\n",
       "  <thead>\n",
       "    <tr style=\"text-align: right;\">\n",
       "      <th></th>\n",
       "      <th>0</th>\n",
       "      <th>1</th>\n",
       "      <th>2</th>\n",
       "    </tr>\n",
       "  </thead>\n",
       "  <tbody>\n",
       "    <tr>\n",
       "      <th>0</th>\n",
       "      <td>NaN</td>\n",
       "      <td>NaN</td>\n",
       "      <td>NaN</td>\n",
       "    </tr>\n",
       "    <tr>\n",
       "      <th>1</th>\n",
       "      <td>NaN</td>\n",
       "      <td>NaN</td>\n",
       "      <td>NaN</td>\n",
       "    </tr>\n",
       "    <tr>\n",
       "      <th>2</th>\n",
       "      <td>NaN</td>\n",
       "      <td>NaN</td>\n",
       "      <td>NaN</td>\n",
       "    </tr>\n",
       "    <tr>\n",
       "      <th>3</th>\n",
       "      <td>NaN</td>\n",
       "      <td>NaN</td>\n",
       "      <td>NaN</td>\n",
       "    </tr>\n",
       "    <tr>\n",
       "      <th>4</th>\n",
       "      <td>2.0</td>\n",
       "      <td>3.0</td>\n",
       "      <td>-1.0</td>\n",
       "    </tr>\n",
       "    <tr>\n",
       "      <th>...</th>\n",
       "      <td>...</td>\n",
       "      <td>...</td>\n",
       "      <td>...</td>\n",
       "    </tr>\n",
       "    <tr>\n",
       "      <th>2495</th>\n",
       "      <td>1.0</td>\n",
       "      <td>2.0</td>\n",
       "      <td>-1.0</td>\n",
       "    </tr>\n",
       "    <tr>\n",
       "      <th>2496</th>\n",
       "      <td>2.0</td>\n",
       "      <td>3.0</td>\n",
       "      <td>-1.0</td>\n",
       "    </tr>\n",
       "    <tr>\n",
       "      <th>2497</th>\n",
       "      <td>NaN</td>\n",
       "      <td>NaN</td>\n",
       "      <td>NaN</td>\n",
       "    </tr>\n",
       "    <tr>\n",
       "      <th>2498</th>\n",
       "      <td>2.0</td>\n",
       "      <td>3.0</td>\n",
       "      <td>-1.0</td>\n",
       "    </tr>\n",
       "    <tr>\n",
       "      <th>2499</th>\n",
       "      <td>NaN</td>\n",
       "      <td>NaN</td>\n",
       "      <td>NaN</td>\n",
       "    </tr>\n",
       "  </tbody>\n",
       "</table>\n",
       "<p>2500 rows × 3 columns</p>\n",
       "</div>"
      ],
      "text/plain": [
       "        0    1    2\n",
       "0     NaN  NaN  NaN\n",
       "1     NaN  NaN  NaN\n",
       "2     NaN  NaN  NaN\n",
       "3     NaN  NaN  NaN\n",
       "4     2.0  3.0 -1.0\n",
       "...   ...  ...  ...\n",
       "2495  1.0  2.0 -1.0\n",
       "2496  2.0  3.0 -1.0\n",
       "2497  NaN  NaN  NaN\n",
       "2498  2.0  3.0 -1.0\n",
       "2499  NaN  NaN  NaN\n",
       "\n",
       "[2500 rows x 3 columns]"
      ]
     },
     "execution_count": 7,
     "metadata": {},
     "output_type": "execute_result"
    }
   ],
   "source": [
    "df.where((df[2]==-1))"
   ]
  },
  {
   "cell_type": "code",
   "execution_count": 8,
   "id": "6b6d5082",
   "metadata": {},
   "outputs": [],
   "source": [
    "# df.replace by dictionary:\n",
    "d = {-1:6, 2:6, 0:3, -2:0, 1:0}\n",
    "df[2] = df[2].replace(d)"
   ]
  },
  {
   "cell_type": "code",
   "execution_count": 9,
   "id": "001ccded",
   "metadata": {},
   "outputs": [],
   "source": [
    "df[3]=df[2]+df[1]"
   ]
  },
  {
   "cell_type": "code",
   "execution_count": 10,
   "id": "0ca471ea",
   "metadata": {},
   "outputs": [
    {
     "name": "stdout",
     "output_type": "stream",
     "text": [
      "score is: 14827\n"
     ]
    }
   ],
   "source": [
    "# суммирование содержимого колонок, выбираем третий элемент Series\n",
    "score = df.sum('index')[3]\n",
    "print(f'score is: {score}')"
   ]
  },
  {
   "cell_type": "code",
   "execution_count": 11,
   "id": "f95d5fd5",
   "metadata": {},
   "outputs": [
    {
     "data": {
      "text/html": [
       "<div>\n",
       "<style scoped>\n",
       "    .dataframe tbody tr th:only-of-type {\n",
       "        vertical-align: middle;\n",
       "    }\n",
       "\n",
       "    .dataframe tbody tr th {\n",
       "        vertical-align: top;\n",
       "    }\n",
       "\n",
       "    .dataframe thead th {\n",
       "        text-align: right;\n",
       "    }\n",
       "</style>\n",
       "<table border=\"1\" class=\"dataframe\">\n",
       "  <thead>\n",
       "    <tr style=\"text-align: right;\">\n",
       "      <th></th>\n",
       "      <th>0</th>\n",
       "      <th>1</th>\n",
       "      <th>2</th>\n",
       "      <th>3</th>\n",
       "    </tr>\n",
       "  </thead>\n",
       "  <tbody>\n",
       "    <tr>\n",
       "      <th>0</th>\n",
       "      <td>3</td>\n",
       "      <td>2</td>\n",
       "      <td>0</td>\n",
       "      <td>2</td>\n",
       "    </tr>\n",
       "    <tr>\n",
       "      <th>1</th>\n",
       "      <td>3</td>\n",
       "      <td>2</td>\n",
       "      <td>0</td>\n",
       "      <td>2</td>\n",
       "    </tr>\n",
       "    <tr>\n",
       "      <th>2</th>\n",
       "      <td>2</td>\n",
       "      <td>2</td>\n",
       "      <td>3</td>\n",
       "      <td>5</td>\n",
       "    </tr>\n",
       "    <tr>\n",
       "      <th>3</th>\n",
       "      <td>1</td>\n",
       "      <td>3</td>\n",
       "      <td>0</td>\n",
       "      <td>3</td>\n",
       "    </tr>\n",
       "    <tr>\n",
       "      <th>4</th>\n",
       "      <td>2</td>\n",
       "      <td>3</td>\n",
       "      <td>6</td>\n",
       "      <td>9</td>\n",
       "    </tr>\n",
       "    <tr>\n",
       "      <th>...</th>\n",
       "      <td>...</td>\n",
       "      <td>...</td>\n",
       "      <td>...</td>\n",
       "      <td>...</td>\n",
       "    </tr>\n",
       "    <tr>\n",
       "      <th>2495</th>\n",
       "      <td>1</td>\n",
       "      <td>2</td>\n",
       "      <td>6</td>\n",
       "      <td>8</td>\n",
       "    </tr>\n",
       "    <tr>\n",
       "      <th>2496</th>\n",
       "      <td>2</td>\n",
       "      <td>3</td>\n",
       "      <td>6</td>\n",
       "      <td>9</td>\n",
       "    </tr>\n",
       "    <tr>\n",
       "      <th>2497</th>\n",
       "      <td>2</td>\n",
       "      <td>2</td>\n",
       "      <td>3</td>\n",
       "      <td>5</td>\n",
       "    </tr>\n",
       "    <tr>\n",
       "      <th>2498</th>\n",
       "      <td>2</td>\n",
       "      <td>3</td>\n",
       "      <td>6</td>\n",
       "      <td>9</td>\n",
       "    </tr>\n",
       "    <tr>\n",
       "      <th>2499</th>\n",
       "      <td>2</td>\n",
       "      <td>1</td>\n",
       "      <td>0</td>\n",
       "      <td>1</td>\n",
       "    </tr>\n",
       "  </tbody>\n",
       "</table>\n",
       "<p>2500 rows × 4 columns</p>\n",
       "</div>"
      ],
      "text/plain": [
       "      0  1  2  3\n",
       "0     3  2  0  2\n",
       "1     3  2  0  2\n",
       "2     2  2  3  5\n",
       "3     1  3  0  3\n",
       "4     2  3  6  9\n",
       "...  .. .. .. ..\n",
       "2495  1  2  6  8\n",
       "2496  2  3  6  9\n",
       "2497  2  2  3  5\n",
       "2498  2  3  6  9\n",
       "2499  2  1  0  1\n",
       "\n",
       "[2500 rows x 4 columns]"
      ]
     },
     "execution_count": 11,
     "metadata": {},
     "output_type": "execute_result"
    }
   ],
   "source": [
    "df\n"
   ]
  },
  {
   "cell_type": "code",
   "execution_count": 12,
   "id": "a231f9f8",
   "metadata": {},
   "outputs": [],
   "source": [
    "#### part two ####"
   ]
  },
  {
   "cell_type": "code",
   "execution_count": 196,
   "id": "02c79499",
   "metadata": {},
   "outputs": [],
   "source": [
    "from modules.PuzzlesAPI import PuzzleInput\n",
    "\n",
    "url = 'https://adventofcode.com/2022/day/2/input'\n",
    "\n",
    "input_conn = PuzzleInput(url)\n",
    "soup = input_conn.get_puzzle_input()\n",
    "\n",
    "\n",
    "import pandas\n",
    "df = pandas.DataFrame([row.replace(\"A\", \"1\").replace(\"B\", \"2\").replace(\"C\", \"3\").replace(\"X\", \"0\").replace(\"Y\", \"3\").replace(\"Z\", \"6\").split() for row in soup])\n",
    "df = df.astype(int)"
   ]
  },
  {
   "cell_type": "code",
   "execution_count": 197,
   "id": "76b91bcd",
   "metadata": {},
   "outputs": [
    {
     "data": {
      "text/html": [
       "<div>\n",
       "<style scoped>\n",
       "    .dataframe tbody tr th:only-of-type {\n",
       "        vertical-align: middle;\n",
       "    }\n",
       "\n",
       "    .dataframe tbody tr th {\n",
       "        vertical-align: top;\n",
       "    }\n",
       "\n",
       "    .dataframe thead th {\n",
       "        text-align: right;\n",
       "    }\n",
       "</style>\n",
       "<table border=\"1\" class=\"dataframe\">\n",
       "  <thead>\n",
       "    <tr style=\"text-align: right;\">\n",
       "      <th></th>\n",
       "      <th>0</th>\n",
       "      <th>1</th>\n",
       "    </tr>\n",
       "  </thead>\n",
       "  <tbody>\n",
       "    <tr>\n",
       "      <th>5</th>\n",
       "      <td>1</td>\n",
       "      <td>0</td>\n",
       "    </tr>\n",
       "    <tr>\n",
       "      <th>8</th>\n",
       "      <td>1</td>\n",
       "      <td>0</td>\n",
       "    </tr>\n",
       "    <tr>\n",
       "      <th>21</th>\n",
       "      <td>2</td>\n",
       "      <td>0</td>\n",
       "    </tr>\n",
       "    <tr>\n",
       "      <th>23</th>\n",
       "      <td>2</td>\n",
       "      <td>0</td>\n",
       "    </tr>\n",
       "    <tr>\n",
       "      <th>24</th>\n",
       "      <td>1</td>\n",
       "      <td>0</td>\n",
       "    </tr>\n",
       "    <tr>\n",
       "      <th>...</th>\n",
       "      <td>...</td>\n",
       "      <td>...</td>\n",
       "    </tr>\n",
       "    <tr>\n",
       "      <th>2483</th>\n",
       "      <td>1</td>\n",
       "      <td>0</td>\n",
       "    </tr>\n",
       "    <tr>\n",
       "      <th>2485</th>\n",
       "      <td>1</td>\n",
       "      <td>0</td>\n",
       "    </tr>\n",
       "    <tr>\n",
       "      <th>2487</th>\n",
       "      <td>1</td>\n",
       "      <td>0</td>\n",
       "    </tr>\n",
       "    <tr>\n",
       "      <th>2488</th>\n",
       "      <td>1</td>\n",
       "      <td>0</td>\n",
       "    </tr>\n",
       "    <tr>\n",
       "      <th>2499</th>\n",
       "      <td>2</td>\n",
       "      <td>0</td>\n",
       "    </tr>\n",
       "  </tbody>\n",
       "</table>\n",
       "<p>775 rows × 2 columns</p>\n",
       "</div>"
      ],
      "text/plain": [
       "      0  1\n",
       "5     1  0\n",
       "8     1  0\n",
       "21    2  0\n",
       "23    2  0\n",
       "24    1  0\n",
       "...  .. ..\n",
       "2483  1  0\n",
       "2485  1  0\n",
       "2487  1  0\n",
       "2488  1  0\n",
       "2499  2  0\n",
       "\n",
       "[775 rows x 2 columns]"
      ]
     },
     "execution_count": 197,
     "metadata": {},
     "output_type": "execute_result"
    }
   ],
   "source": [
    "## masking dataframe\n",
    "mask_loose = df[1]==0 \n",
    "mask_win = df[1]==6\n",
    "mask_draw = df[1]==3\n",
    "\n",
    "df[mask_loose]"
   ]
  },
  {
   "cell_type": "code",
   "execution_count": 198,
   "id": "b3e7e3ab",
   "metadata": {},
   "outputs": [
    {
     "data": {
      "text/html": [
       "<div>\n",
       "<style scoped>\n",
       "    .dataframe tbody tr th:only-of-type {\n",
       "        vertical-align: middle;\n",
       "    }\n",
       "\n",
       "    .dataframe tbody tr th {\n",
       "        vertical-align: top;\n",
       "    }\n",
       "\n",
       "    .dataframe thead th {\n",
       "        text-align: right;\n",
       "    }\n",
       "</style>\n",
       "<table border=\"1\" class=\"dataframe\">\n",
       "  <thead>\n",
       "    <tr style=\"text-align: right;\">\n",
       "      <th></th>\n",
       "      <th>0</th>\n",
       "      <th>1</th>\n",
       "    </tr>\n",
       "  </thead>\n",
       "  <tbody>\n",
       "    <tr>\n",
       "      <th>0</th>\n",
       "      <td>3</td>\n",
       "      <td>3</td>\n",
       "    </tr>\n",
       "    <tr>\n",
       "      <th>1</th>\n",
       "      <td>3</td>\n",
       "      <td>3</td>\n",
       "    </tr>\n",
       "    <tr>\n",
       "      <th>2</th>\n",
       "      <td>2</td>\n",
       "      <td>3</td>\n",
       "    </tr>\n",
       "    <tr>\n",
       "      <th>3</th>\n",
       "      <td>1</td>\n",
       "      <td>6</td>\n",
       "    </tr>\n",
       "    <tr>\n",
       "      <th>4</th>\n",
       "      <td>2</td>\n",
       "      <td>6</td>\n",
       "    </tr>\n",
       "    <tr>\n",
       "      <th>...</th>\n",
       "      <td>...</td>\n",
       "      <td>...</td>\n",
       "    </tr>\n",
       "    <tr>\n",
       "      <th>2495</th>\n",
       "      <td>1</td>\n",
       "      <td>3</td>\n",
       "    </tr>\n",
       "    <tr>\n",
       "      <th>2496</th>\n",
       "      <td>2</td>\n",
       "      <td>6</td>\n",
       "    </tr>\n",
       "    <tr>\n",
       "      <th>2497</th>\n",
       "      <td>2</td>\n",
       "      <td>3</td>\n",
       "    </tr>\n",
       "    <tr>\n",
       "      <th>2498</th>\n",
       "      <td>2</td>\n",
       "      <td>6</td>\n",
       "    </tr>\n",
       "    <tr>\n",
       "      <th>2499</th>\n",
       "      <td>2</td>\n",
       "      <td>0</td>\n",
       "    </tr>\n",
       "  </tbody>\n",
       "</table>\n",
       "<p>2500 rows × 2 columns</p>\n",
       "</div>"
      ],
      "text/plain": [
       "      0  1\n",
       "0     3  3\n",
       "1     3  3\n",
       "2     2  3\n",
       "3     1  6\n",
       "4     2  6\n",
       "...  .. ..\n",
       "2495  1  3\n",
       "2496  2  6\n",
       "2497  2  3\n",
       "2498  2  6\n",
       "2499  2  0\n",
       "\n",
       "[2500 rows x 2 columns]"
      ]
     },
     "execution_count": 198,
     "metadata": {},
     "output_type": "execute_result"
    }
   ],
   "source": [
    "df"
   ]
  },
  {
   "cell_type": "code",
   "execution_count": 174,
   "id": "440567c9",
   "metadata": {},
   "outputs": [
    {
     "data": {
      "text/plain": [
       "0       3\n",
       "1       3\n",
       "2       2\n",
       "3       1\n",
       "4       2\n",
       "       ..\n",
       "2495    1\n",
       "2496    2\n",
       "2497    2\n",
       "2498    2\n",
       "2499    2\n",
       "Name: 0, Length: 2500, dtype: int64"
      ]
     },
     "execution_count": 174,
     "metadata": {},
     "output_type": "execute_result"
    }
   ],
   "source": [
    "# loosing algorithm\n",
    "df[0]%3+1\n",
    "# winning \n",
    "(df[0]+1)%3\n",
    "# draw algorithm\n",
    "df[0]"
   ]
  },
  {
   "cell_type": "code",
   "execution_count": 214,
   "id": "9947c168",
   "metadata": {},
   "outputs": [],
   "source": [
    "df[3] = df[mask_loose][0]%3+1\n",
    "df[4] = (df[mask_win][0]+1)%3+1\n",
    "df[5] = df[mask_draw][0]\n",
    "df=df.fillna(0)\n",
    "df[3] += df[4]+df[5]\n",
    "del df[4]\n",
    "del df[5]"
   ]
  },
  {
   "cell_type": "code",
   "execution_count": 178,
   "id": "b5d49214",
   "metadata": {},
   "outputs": [],
   "source": [
    "df.fillna(0)[3] = df.fillna(0)[3]+((df[mask_win][0]+1)%3).fillna(0)"
   ]
  },
  {
   "cell_type": "code",
   "execution_count": 216,
   "id": "a734ad48",
   "metadata": {},
   "outputs": [],
   "source": [
    "df[4]=df[3]+df[1]"
   ]
  },
  {
   "cell_type": "code",
   "execution_count": 200,
   "id": "5cc75e87",
   "metadata": {},
   "outputs": [],
   "source": [
    "# df[3] += df[mask_loose][0]%3+1"
   ]
  },
  {
   "cell_type": "code",
   "execution_count": 218,
   "id": "c6bbc26a",
   "metadata": {},
   "outputs": [
    {
     "data": {
      "text/plain": [
       "12631.0"
      ]
     },
     "execution_count": 218,
     "metadata": {},
     "output_type": "execute_result"
    }
   ],
   "source": [
    "df.sum('index')[4]"
   ]
  },
  {
   "cell_type": "code",
   "execution_count": 12,
   "id": "98a399ef",
   "metadata": {},
   "outputs": [
    {
     "name": "stdout",
     "output_type": "stream",
     "text": [
      "[b'# packages in environment at /root/miniconda3:', b'#', b'# Name                    Version                   Build  Channel', b'_libgcc_mutex             0.1                        main  ', b'_openmp_mutex             4.5                       1_gnu  ', b'brotlipy                  0.7.0           py39h27cfd23_1003  ', b'ca-certificates           2022.3.29            h06a4308_1  ', b'certifi                   2021.10.8        py39h06a4308_2  ', b'cffi                      1.15.0           py39hd667e15_1  ', b'charset-normalizer        2.0.4              pyhd3eb1b0_0  ', b'colorama                  0.4.4              pyhd3eb1b0_0  ', b'conda                     4.12.0           py39h06a4308_0  ', b'conda-content-trust       0.1.1              pyhd3eb1b0_0  ', b'conda-package-handling    1.8.1            py39h7f8727e_0  ', b'cryptography              36.0.0           py39h9ce1e76_0  ', b'idna                      3.3                pyhd3eb1b0_0  ', b'ld_impl_linux-64          2.35.1               h7274673_9  ', b'libffi                    3.3                  he6710b0_2  ', b'libgcc-ng                 9.3.0               h5101ec6_17  ', b'libgomp                   9.3.0               h5101ec6_17  ', b'libstdcxx-ng              9.3.0               hd4cf53a_17  ', b'ncurses                   6.3                  h7f8727e_2  ', b'openssl                   1.1.1n               h7f8727e_0  ', b'pip                       21.2.4           py39h06a4308_0  ', b'pycosat                   0.6.3            py39h27cfd23_0  ', b'pycparser                 2.21               pyhd3eb1b0_0  ', b'pyopenssl                 22.0.0             pyhd3eb1b0_0  ', b'pysocks                   1.7.1            py39h06a4308_0  ', b'python                    3.9.12               h12debd9_0  ', b'readline                  8.1.2                h7f8727e_1  ', b'requests                  2.27.1             pyhd3eb1b0_0  ', b'ruamel_yaml               0.15.100         py39h27cfd23_0  ', b'setuptools                61.2.0           py39h06a4308_0  ', b'six                       1.16.0             pyhd3eb1b0_1  ', b'sqlite                    3.38.2               hc218d9a_0  ', b'tk                        8.6.11               h1ccaba5_0  ', b'tqdm                      4.63.0             pyhd3eb1b0_0  ', b'tzdata                    2022a                hda174b7_0  ', b'urllib3                   1.26.8             pyhd3eb1b0_0  ', b'wheel                     0.37.1             pyhd3eb1b0_0  ', b'xz                        5.2.5                h7b6447c_0  ', b'yaml                      0.2.5                h7b6447c_0  ', b'zlib                      1.2.12               h7f8727e_1  ', b'']\n"
     ]
    }
   ],
   "source": [
    "import subprocess\n",
    "# This is our shell command, executed by Popen.\n",
    "p = subprocess.Popen(\"conda list\", stdout=subprocess.PIPE, shell=True)\n",
    "print(p.communicate()[0].split(b\"\\n\"))"
   ]
  },
  {
   "cell_type": "code",
   "execution_count": 8,
   "id": "dd79ad3e",
   "metadata": {},
   "outputs": [
    {
     "data": {
      "text/plain": [
       "'/home/2_day'"
      ]
     },
     "execution_count": 8,
     "metadata": {},
     "output_type": "execute_result"
    }
   ],
   "source": [
    "import os\n",
    "os.getcwd()\n"
   ]
  },
  {
   "cell_type": "code",
   "execution_count": 10,
   "id": "c961b410",
   "metadata": {},
   "outputs": [
    {
     "data": {
      "text/plain": [
       "['sbin',\n",
       " 'opt',\n",
       " 'tmp',\n",
       " 'lib',\n",
       " 'boot',\n",
       " 'usr',\n",
       " 'run',\n",
       " 'lib64',\n",
       " 'dev',\n",
       " 'proc',\n",
       " 'home',\n",
       " 'bin',\n",
       " 'var',\n",
       " 'mnt',\n",
       " 'media',\n",
       " 'srv',\n",
       " 'etc',\n",
       " 'sys',\n",
       " 'root',\n",
       " '.dockerenv',\n",
       " 'advents.yml']"
      ]
     },
     "execution_count": 10,
     "metadata": {},
     "output_type": "execute_result"
    }
   ],
   "source": [
    "os.listdir('../..')"
   ]
  },
  {
   "cell_type": "code",
   "execution_count": null,
   "id": "209ef23b",
   "metadata": {},
   "outputs": [],
   "source": []
  }
 ],
 "metadata": {
  "kernelspec": {
   "display_name": "Python 3 (ipykernel)",
   "language": "python",
   "name": "python3"
  },
  "language_info": {
   "codemirror_mode": {
    "name": "ipython",
    "version": 3
   },
   "file_extension": ".py",
   "mimetype": "text/x-python",
   "name": "python",
   "nbconvert_exporter": "python",
   "pygments_lexer": "ipython3",
   "version": "3.8.5"
  }
 },
 "nbformat": 4,
 "nbformat_minor": 5
}
